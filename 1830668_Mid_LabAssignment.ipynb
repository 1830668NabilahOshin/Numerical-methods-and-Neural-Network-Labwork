{
  "nbformat": 4,
  "nbformat_minor": 0,
  "metadata": {
    "colab": {
      "provenance": [],
      "authorship_tag": "ABX9TyOail0TRWjF6+8SKgq8Fdlk",
      "include_colab_link": true
    },
    "kernelspec": {
      "name": "python3",
      "display_name": "Python 3"
    },
    "language_info": {
      "name": "python"
    }
  },
  "cells": [
    {
      "cell_type": "markdown",
      "metadata": {
        "id": "view-in-github",
        "colab_type": "text"
      },
      "source": [
        "<a href=\"https://colab.research.google.com/github/1830668NabilahOshin/Numerical-methods-and-Neural-Network-Labwork/blob/main/1830668_Mid_LabAssignment.ipynb\" target=\"_parent\"><img src=\"https://colab.research.google.com/assets/colab-badge.svg\" alt=\"Open In Colab\"/></a>"
      ]
    },
    {
      "cell_type": "markdown",
      "source": [
        "**Import**"
      ],
      "metadata": {
        "id": "Xszwns-lP27D"
      }
    },
    {
      "cell_type": "code",
      "execution_count": null,
      "metadata": {
        "id": "-0SpTHolLZjZ"
      },
      "outputs": [],
      "source": [
        "#Nabilah Tabassum Oshin\n",
        "#ID- 1830668\n",
        "\n",
        "import numpy as np\n",
        "import pandas as pd\n",
        "import matplotlib.pyplot as plt\n",
        "import scipy.io as sio"
      ]
    },
    {
      "cell_type": "markdown",
      "source": [
        "**=>Loading .mat data into 2 variables**"
      ],
      "metadata": {
        "id": "b1JIpNMjNXPX"
      }
    },
    {
      "cell_type": "code",
      "source": [
        "matdata = sio.loadmat('mnist_train.mat')\n",
        "digits = matdata['digits']\n",
        "labels = matdata['labels']\n",
        "\n",
        "print('the digits matrix shape from mat file :', digits.shape)\n",
        "print('the labels matrix shape from mat file :', labels.shape)\n"
      ],
      "metadata": {
        "colab": {
          "base_uri": "https://localhost:8080/"
        },
        "id": "bsVU6bUsNUGQ",
        "outputId": "30760390-1d27-4c61-bfb0-eacaa0b90d30"
      },
      "execution_count": null,
      "outputs": [
        {
          "output_type": "stream",
          "name": "stdout",
          "text": [
            "the digits matrix shape from mat file : (784, 60000)\n",
            "the labels matrix shape from mat file : (1, 60000)\n"
          ]
        }
      ]
    },
    {
      "cell_type": "markdown",
      "source": [
        "**=>Taking the first 10000 digits as a dataset**\n"
      ],
      "metadata": {
        "id": "XQITsEu4N9kz"
      }
    },
    {
      "cell_type": "code",
      "source": [
        "data = digits[:,0:10000]\n",
        "print(data.shape)\n",
        "row, col = np.shape(data)"
      ],
      "metadata": {
        "colab": {
          "base_uri": "https://localhost:8080/"
        },
        "id": "z7rcJDnXN9QU",
        "outputId": "3ba723ba-9ec5-451f-c367-a0f9a180bfa6"
      },
      "execution_count": null,
      "outputs": [
        {
          "output_type": "stream",
          "name": "stdout",
          "text": [
            "(784, 10000)\n"
          ]
        }
      ]
    },
    {
      "cell_type": "markdown",
      "source": [
        "**=> Storing random indexes of data columns(digits)**"
      ],
      "metadata": {
        "id": "7BYTBw1sOf2X"
      }
    },
    {
      "cell_type": "code",
      "source": [
        "randidx = np.random.permutation(col)\n",
        "print(randidx)"
      ],
      "metadata": {
        "colab": {
          "base_uri": "https://localhost:8080/"
        },
        "id": "cBLDJNmrOfmX",
        "outputId": "f87c7723-464d-4165-f845-0bbf6517690c"
      },
      "execution_count": null,
      "outputs": [
        {
          "output_type": "stream",
          "name": "stdout",
          "text": [
            "[9624 9835 7215 ... 1800 3044 1493]\n"
          ]
        }
      ]
    },
    {
      "cell_type": "markdown",
      "source": [
        "**=> Declaring group no.**"
      ],
      "metadata": {
        "id": "891WrxChO7oc"
      }
    },
    {
      "cell_type": "code",
      "source": [
        "k=10"
      ],
      "metadata": {
        "id": "NFO346mbO7Zv"
      },
      "execution_count": null,
      "outputs": []
    },
    {
      "cell_type": "markdown",
      "source": [
        "**=> Initializing centroids and groups**"
      ],
      "metadata": {
        "id": "JOt9Pb-JPQO6"
      }
    },
    {
      "cell_type": "code",
      "source": [
        "centroids = np.zeros((row, k))\n",
        "\n",
        "for i in range(k):\n",
        "  centroids[:,i] = data[:,randidx[i]]\n",
        "\n",
        "print('centroids shape:',centroids.shape)\n",
        "\n",
        "group = np.zeros(col)-1\n",
        "print(group)"
      ],
      "metadata": {
        "colab": {
          "base_uri": "https://localhost:8080/"
        },
        "id": "yNuyKn5LPP_W",
        "outputId": "1a942356-9305-4042-af43-ee524231c508"
      },
      "execution_count": null,
      "outputs": [
        {
          "output_type": "stream",
          "name": "stdout",
          "text": [
            "centroids shape: (784, 10)\n",
            "[-1. -1. -1. ... -1. -1. -1.]\n"
          ]
        }
      ]
    },
    {
      "cell_type": "markdown",
      "source": [
        "**=> Simple clustering for N=10000**"
      ],
      "metadata": {
        "id": "JQyuI5zYQg0X"
      }
    },
    {
      "cell_type": "code",
      "source": [
        "for i in range(10000):\n",
        "    distarr = np.zeros(k)\n",
        "    for j in range(k):\n",
        "        distarr[j] = np.sqrt(np.dot((data[:,i]- centroids[:,j]) , (data[:,i]- centroids[:,j])))\n",
        "\n",
        "    group[i] = np.argmin(distarr)\n",
        "\n",
        "\n",
        "print('group:', group)\n",
        "\n",
        "for l in range(k):\n",
        "  centroids[:,l]= np.mean(data[:,group==l], axis=1)\n",
        "\n",
        "\n",
        "print('centroids:')\n",
        "print(centroids)\n",
        "\n"
      ],
      "metadata": {
        "colab": {
          "base_uri": "https://localhost:8080/"
        },
        "id": "ZA2Z7kBaQgjt",
        "outputId": "14cd25d7-5c2f-4c13-a72c-febdf3f5b777"
      },
      "execution_count": null,
      "outputs": [
        {
          "output_type": "stream",
          "name": "stdout",
          "text": [
            "group: [4. 7. 1. ... 9. 6. 3.]\n",
            "centroids:\n",
            "[[0. 0. 0. ... 0. 0. 0.]\n",
            " [0. 0. 0. ... 0. 0. 0.]\n",
            " [0. 0. 0. ... 0. 0. 0.]\n",
            " ...\n",
            " [0. 0. 0. ... 0. 0. 0.]\n",
            " [0. 0. 0. ... 0. 0. 0.]\n",
            " [0. 0. 0. ... 0. 0. 0.]]\n"
          ]
        }
      ]
    },
    {
      "cell_type": "markdown",
      "source": [
        "**Evaluate clustering using J**"
      ],
      "metadata": {
        "id": "IiT4z0nKRXHm"
      }
    },
    {
      "cell_type": "code",
      "source": [],
      "metadata": {
        "id": "x2CY82LFRW46"
      },
      "execution_count": null,
      "outputs": []
    }
  ]
}