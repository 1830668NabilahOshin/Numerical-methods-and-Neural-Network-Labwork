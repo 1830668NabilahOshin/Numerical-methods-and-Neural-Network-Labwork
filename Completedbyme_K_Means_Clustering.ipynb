{
  "nbformat": 4,
  "nbformat_minor": 0,
  "metadata": {
    "colab": {
      "provenance": [],
      "include_colab_link": true
    },
    "kernelspec": {
      "name": "python3",
      "display_name": "Python 3"
    },
    "language_info": {
      "name": "python"
    }
  },
  "cells": [
    {
      "cell_type": "markdown",
      "metadata": {
        "id": "view-in-github",
        "colab_type": "text"
      },
      "source": [
        "<a href=\"https://colab.research.google.com/github/1830668NabilahOshin/Numerical-methods-and-Neural-Network-Labwork/blob/main/Completedbyme_K_Means_Clustering.ipynb\" target=\"_parent\"><img src=\"https://colab.research.google.com/assets/colab-badge.svg\" alt=\"Open In Colab\"/></a>"
      ]
    },
    {
      "cell_type": "markdown",
      "metadata": {
        "id": "JC_tqqOckY4C"
      },
      "source": [
        "#### **1. Import necessary packages:**"
      ]
    },
    {
      "cell_type": "code",
      "metadata": {
        "id": "gQkyWDVyjdYU"
      },
      "source": [
        "import numpy as np\n",
        "import pandas as pd\n",
        "import matplotlib.pyplot as plt\n",
        "\n"
      ],
      "execution_count": null,
      "outputs": []
    },
    {
      "cell_type": "markdown",
      "metadata": {
        "id": "3kUoQAB4kqU7"
      },
      "source": [
        "#### **2. Upload and load dataset:**\n",
        "At first we have to upload the dataset to google colab to start working with it. Please download the **\"bookprice.csv\"** dataset from piazza resourse or [click here](https://piazza.com/class_profile/get_resource/ku1fdd7zhev3r2/ku7c2kiquo514q) to download it. Then click on files form sidebar, drag and drop your file to side bar to upload the dataset.\n",
        "\n",
        "Now, use `data = pd.read_csv(\"bookprice.csv\")` to load the data."
      ]
    },
    {
      "cell_type": "code",
      "metadata": {
        "id": "xsG8LjSjkxsZ",
        "colab": {
          "base_uri": "https://localhost:8080/"
        },
        "outputId": "1582119d-67aa-46d0-a5f9-0be2f2d065f5"
      },
      "source": [
        "data = pd.read_csv(\"bookprice.csv\")\n",
        "data = data.to_numpy()\n",
        "print(data)"
      ],
      "execution_count": null,
      "outputs": [
        {
          "output_type": "stream",
          "name": "stdout",
          "text": [
            "[[166  54]\n",
            " [195  82]\n",
            " [200  72]\n",
            " [260  72]\n",
            " [265  90]\n",
            " [335 124]\n",
            " [370  94]\n",
            " [450 118]\n",
            " [517 152]\n",
            " [552 132]]\n"
          ]
        }
      ]
    },
    {
      "cell_type": "markdown",
      "metadata": {
        "id": "KLNnfdjelYql"
      },
      "source": [
        "#### **3. Get the size of data.:**\n",
        "Get the size of `data` using `np.shape(data)`. This will return a tuple consists of number of rows and columns of `data`. Save these into two varible named `row` and `col`."
      ]
    },
    {
      "cell_type": "code",
      "metadata": {
        "id": "Aq6-QgAalmiP",
        "colab": {
          "base_uri": "https://localhost:8080/"
        },
        "outputId": "86510cfd-5bbf-416e-dc73-ceb881eb592c"
      },
      "source": [
        "row, col = np.shape(data)\n",
        "print(row, col)"
      ],
      "execution_count": null,
      "outputs": [
        {
          "output_type": "stream",
          "name": "stdout",
          "text": [
            "10 2\n"
          ]
        }
      ]
    },
    {
      "cell_type": "markdown",
      "metadata": {
        "id": "veP-LGHll7UR"
      },
      "source": [
        "#### **4. Plot 2D data. X-axis show page, Y-Axis shows price**\n",
        "Draw a scatter plot using `plt.scatter()`. Keep page in x-axis and price in y-axis. Show xlabel and ylabel using `plt.xlabel('Page')` and `plt.ylabel('Price')`. Put limit of the axis using `plt.xlim(150, 600)` and `plt.ylim(50, 160)`"
      ]
    },
    {
      "cell_type": "code",
      "metadata": {
        "id": "RAZUYo03l_gS",
        "colab": {
          "base_uri": "https://localhost:8080/",
          "height": 282
        },
        "outputId": "f0401fa7-c185-471d-9965-a778005b5875"
      },
      "source": [
        "plt.scatter(data[:,0] , data[:,1])"
      ],
      "execution_count": null,
      "outputs": [
        {
          "output_type": "execute_result",
          "data": {
            "text/plain": [
              "<matplotlib.collections.PathCollection at 0x7f7ad9b9a890>"
            ]
          },
          "metadata": {},
          "execution_count": 6
        },
        {
          "output_type": "display_data",
          "data": {
            "text/plain": [
              "<Figure size 432x288 with 1 Axes>"
            ],
            "image/png": "[encoded data removed]"
          },
          "metadata": {
            "needs_background": "light"
          }
        }
      ]
    },
    {
      "cell_type": "markdown",
      "metadata": {
        "id": "cfhzNQvqJyTu"
      },
      "source": [
        "#### **5. Decide number of groups:**\n",
        "Let's take number of group `k = 3`"
      ]
    },
    {
      "cell_type": "code",
      "metadata": {
        "id": "J1_zDJigJxiE"
      },
      "source": [
        "k=3"
      ],
      "execution_count": null,
      "outputs": []
    },
    {
      "cell_type": "markdown",
      "metadata": {
        "id": "V6j-lTK9KQlA"
      },
      "source": [
        "#### **6. Take a initial zero matrix called centroids:**\n",
        "For three group we need three initial centroid. Initially we will take the origin (0, 0) as centroid. Use `np.zeros()` to generate the centroid matrix.\n",
        "\n",
        "**Note:** The size of the centroid matrix will be (k, col)"
      ]
    },
    {
      "cell_type": "code",
      "metadata": {
        "id": "H_A3-vL8L81i",
        "colab": {
          "base_uri": "https://localhost:8080/"
        },
        "outputId": "d202aeea-0e10-4277-f1c4-ccbe2cd5baad"
      },
      "source": [
        "centroids = np.zeros((k, col))\n",
        "print(centroids)"
      ],
      "execution_count": null,
      "outputs": [
        {
          "output_type": "stream",
          "name": "stdout",
          "text": [
            "[[0. 0.]\n",
            " [0. 0.]\n",
            " [0. 0.]]\n"
          ]
        }
      ]
    },
    {
      "cell_type": "markdown",
      "metadata": {
        "id": "VNmMrA87OB5T"
      },
      "source": [
        "#### **7. Generate random indices ranges from 1 to number of rows of data:**\n",
        "Use `np.random.permutation(row)` to generate random indices and store in randidx."
      ]
    },
    {
      "cell_type": "code",
      "metadata": {
        "id": "cX65xl43O7uC",
        "colab": {
          "base_uri": "https://localhost:8080/"
        },
        "outputId": "d83700fd-f0ec-4f41-8d62-23121be87bb3"
      },
      "source": [
        "randidx = np.random.permutation(row)\n",
        "print(randidx)"
      ],
      "execution_count": null,
      "outputs": [
        {
          "output_type": "stream",
          "name": "stdout",
          "text": [
            "[4 1 5 8 7 2 0 6 9 3]\n"
          ]
        }
      ]
    },
    {
      "cell_type": "markdown",
      "metadata": {
        "id": "Tm7TwqRBQEdW"
      },
      "source": [
        "#### **8. Copy the data from first k (random) indices from data:**\n",
        "Use first k indices from randomly generated indices to get the  specific data from `data` and make these specific data as new centroids."
      ]
    },
    {
      "cell_type": "code",
      "metadata": {
        "id": "6IwCZXh-RG-Y",
        "colab": {
          "base_uri": "https://localhost:8080/"
        },
        "outputId": "b02c5431-5e33-4741-f088-d25059e70d54"
      },
      "source": [
        "for i in range(k):\n",
        "  centroids[i] = data[randidx[i]]\n",
        "\n",
        "print(centroids)"
      ],
      "execution_count": null,
      "outputs": [
        {
          "output_type": "stream",
          "name": "stdout",
          "text": [
            "[[265.  90.]\n",
            " [195.  82.]\n",
            " [335. 124.]]\n"
          ]
        }
      ]
    },
    {
      "cell_type": "markdown",
      "metadata": {
        "id": "zwTXKAjpSG74"
      },
      "source": [
        "#### **9. Create empty array named group:**\n",
        "Create a empty array named group to keep the group number that corresponds to each datapoint."
      ]
    },
    {
      "cell_type": "code",
      "metadata": {
        "id": "CXUcz15CTVgO",
        "colab": {
          "base_uri": "https://localhost:8080/"
        },
        "outputId": "650f6866-62d1-4c1a-8f18-1b6eb8bdbae7"
      },
      "source": [
        "group = np.zeros(row)-1\n",
        "print(group)"
      ],
      "execution_count": null,
      "outputs": [
        {
          "output_type": "stream",
          "name": "stdout",
          "text": [
            "[-1. -1. -1. -1. -1. -1. -1. -1. -1. -1.]\n"
          ]
        }
      ]
    },
    {
      "cell_type": "markdown",
      "metadata": {
        "id": "R_Hyr6Z8o3Ma"
      },
      "source": [
        "#### **10. Calculate distance of each point from each centroid and assign the point to a specific centroid which is closest to the point:**\n",
        "\n",
        "1.   Loop over all datapoint one by one.\n",
        "2.   For each datapoint calculate distances of $i^{th}$ point $(data[i,:])$ from centroids[0], then centroids[1], and then centroids[2]\n",
        "3.   Find out which centroid is the closest to the point $data[i,:]$\n",
        "3.   Save the centroid no that is closest to the datapoint in specific index of group.\n",
        "\n",
        "     E.g. If $i^{th}$ datapoint is closer to centroid[0] then `group[i] = 0`\n",
        "4.   Calculate the average of each group that will be new centroid.\n",
        "\n",
        "     *Note: You can use `pd.DataFrame(data).groupby(by=group)` to get k distinct group and then take average using `.mean()`. You will get an dataframe object as result, to get numpy array use `.values`\n"
      ]
    },
    {
      "cell_type": "code",
      "metadata": {
        "id": "7r2PvCSDWaoy",
        "outputId": "bf1edc56-d2af-4ed4-855c-4079b570ecfc",
        "colab": {
          "base_uri": "https://localhost:8080/"
        }
      },
      "source": [
        "\n",
        "'''for i in range(10):\n",
        "    mindist=10000000\n",
        "    minindex= -1\n",
        "    for j in range(3):\n",
        "      sqdist=np.dot((data[i,:] - centroids[j,:]) , (data[i,:] - centroids[j,:]))\n",
        "      if(sqdist<mindist):\n",
        "      minindex= j\n",
        "      mindist= sqdist\n",
        "      group[i]=minindex\n",
        "\n",
        "print(group)\n",
        "\n",
        "for p in range(3):\n",
        "     index = group==j\n",
        "     a = data[index]\n",
        "     if a.size == 0:\n",
        "      centroids[p]= data[np.random.randint(0,9)]\n",
        "     else :\n",
        "      centroids[p]= np.mean(a)\n",
        "\n",
        "\n",
        "\n",
        "\n",
        "print(centroids)'''\n",
        "\n",
        "\n",
        "'''for i in range(10):\n",
        "    dist1 = np.sqrt(np.dot((data[i,:]- centroids[0]) , (data[i,:]- centroids[0])))\n",
        "    dist2 = np.sqrt(np.dot((data[i,:]- centroids[1]) , (data[i,:]- centroids[1])))\n",
        "    dist3 = np.sqrt(np.dot((data[i,:]- centroids[2]) , (data[i,:]- centroids[2])))\n",
        "    group[i] = np.argmin(np.array([dist1, dist2 , dist3]))\n",
        "\n",
        "\n",
        "print(group)\n",
        "\n",
        "centroids[0]= np.mean(data[group==0], axis=0)\n",
        "centroids[1]= np.mean(data[group==1], axis=0)\n",
        "centroids[2]= np.mean(data[group==2], axis=0)\n",
        "\n",
        "print(centroids)'''\n",
        "\n",
        "\n",
        "for i in range(10):\n",
        "    distarr = np.zeros(k)\n",
        "    for j in range(k):\n",
        "        distarr[j] = np.sqrt(np.dot((data[i,:]- centroids[j]) , (data[i,:]- centroids[j])))\n",
        "\n",
        "    group[i] = np.argmin(distarr)\n",
        "\n",
        "\n",
        "print(group)\n",
        "\n",
        "for l in range(k):\n",
        "  centroids[l]= np.mean(data[group==l], axis=0)\n",
        "\n",
        "\n",
        "print(centroids)\n",
        "\n",
        "\n",
        "\n",
        ""
      ],
      "execution_count": null,
      "outputs": [
        {
          "output_type": "stream",
          "name": "stdout",
          "text": [
            "[1. 1. 1. 0. 0. 2. 2. 2. 2. 2.]\n",
            "[[262.5         81.        ]\n",
            " [187.          69.33333333]\n",
            " [444.8        124.        ]]\n"
          ]
        }
      ]
    },
    {
      "cell_type": "markdown",
      "metadata": {
        "id": "AGXCsEihtJKK"
      },
      "source": [
        "#### **11. Plot the centroids with different marker. Say ‘d’ for diamond:**\n",
        "Use different marker by simply passing an extra parameter to `plt.scatter()` function. E.g. `plt.scatter(--, --, marker='d')`"
      ]
    },
    {
      "cell_type": "code",
      "metadata": {
        "id": "RxQd6xTUnTpx",
        "colab": {
          "base_uri": "https://localhost:8080/",
          "height": 282
        },
        "outputId": "7249897e-d64d-4cad-d066-53fcc0ad4147"
      },
      "source": [
        "plt.scatter(centroids[:, 0] , centroids[ :, 1] ,marker='p')\n",
        "plt.scatter(data[:,0] , data[:,1])"
      ],
      "execution_count": null,
      "outputs": [
        {
          "output_type": "execute_result",
          "data": {
            "text/plain": [
              "<matplotlib.collections.PathCollection at 0x7f7ad73ccd90>"
            ]
          },
          "metadata": {},
          "execution_count": 17
        },
        {
          "output_type": "display_data",
          "data": {
            "text/plain": [
              "<Figure size 432x288 with 1 Axes>"
            ],
            "image/png": "[encoded data removed]"
          },
          "metadata": {
            "needs_background": "light"
          }
        }
      ]
    }
  ]
}