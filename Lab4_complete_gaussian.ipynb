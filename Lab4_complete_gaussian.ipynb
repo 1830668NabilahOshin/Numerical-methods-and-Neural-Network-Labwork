{
  "nbformat": 4,
  "nbformat_minor": 0,
  "metadata": {
    "colab": {
      "provenance": [],
      "authorship_tag": "ABX9TyNO1VViABCB6O4d39LGbL5C",
      "include_colab_link": true
    },
    "kernelspec": {
      "name": "python3",
      "display_name": "Python 3"
    },
    "language_info": {
      "name": "python"
    }
  },
  "cells": [
    {
      "cell_type": "markdown",
      "metadata": {
        "id": "view-in-github",
        "colab_type": "text"
      },
      "source": [
        "<a href=\"https://colab.research.google.com/github/1830668NabilahOshin/Numerical-methods-and-Neural-Network-Labwork/blob/main/Lab4_complete_gaussian.ipynb\" target=\"_parent\"><img src=\"https://colab.research.google.com/assets/colab-badge.svg\" alt=\"Open In Colab\"/></a>"
      ]
    },
    {
      "cell_type": "code",
      "execution_count": null,
      "metadata": {
        "colab": {
          "base_uri": "https://localhost:8080/"
        },
        "id": "E-_XFbjawKfd",
        "outputId": "067507cc-0e0d-4d64-c68d-09a02213c263"
      },
      "outputs": [
        {
          "output_type": "stream",
          "name": "stdout",
          "text": [
            "[[ 1  0  2  3]\n",
            " [-1  2  2 -3]\n",
            " [ 0  1  1  4]\n",
            " [ 6  2  2  4]]\n",
            "[[ 1  0  2  3  1]\n",
            " [-1  2  2 -3 -1]\n",
            " [ 0  1  1  4  2]\n",
            " [ 6  2  2  4  1]]\n",
            "[[  1   0   2   3   1]\n",
            " [  0   2   4   0   0]\n",
            " [  0   0  -1   4   2]\n",
            " [  0   0   0 -70 -33]]\n"
          ]
        }
      ],
      "source": [
        "import numpy as np\n",
        "\n",
        "a = np.array([[1,0,2,3],\n",
        "              [-1,2,2,-3],\n",
        "              [0,1,1,4],\n",
        "              [6,2,2,4]])\n",
        "print(a)\n",
        "\n",
        "b = np.array([1,-1,2,1])\n",
        "\n",
        "M = np.column_stack((a,b))\n",
        "print(M)\n",
        "\n",
        "for i in range (3):\n",
        "  pivot = M[i,i]\n",
        "\n",
        "\n",
        "  for j in range(i+1,4):\n",
        "    f=M[j,i]/pivot\n",
        "    M[j] = M[j] - (f*M[i])\n",
        "\n",
        "\n",
        "print(M)"
      ]
    }
  ]
}