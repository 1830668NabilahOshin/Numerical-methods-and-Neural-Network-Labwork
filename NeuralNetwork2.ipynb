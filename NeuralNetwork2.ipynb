{
  "nbformat": 4,
  "nbformat_minor": 0,
  "metadata": {
    "colab": {
      "provenance": [],
      "authorship_tag": "ABX9TyMWlKNPusGfgEkYDwiv21RF",
      "include_colab_link": true
    },
    "kernelspec": {
      "name": "python3",
      "display_name": "Python 3"
    },
    "language_info": {
      "name": "python"
    }
  },
  "cells": [
    {
      "cell_type": "markdown",
      "metadata": {
        "id": "view-in-github",
        "colab_type": "text"
      },
      "source": [
        "<a href=\"https://colab.research.google.com/github/1830668NabilahOshin/Numerical-methods-and-Neural-Network-Labwork/blob/main/NeuralNetwork2.ipynb\" target=\"_parent\"><img src=\"https://colab.research.google.com/assets/colab-badge.svg\" alt=\"Open In Colab\"/></a>"
      ]
    },
    {
      "cell_type": "code",
      "execution_count": null,
      "metadata": {
        "colab": {
          "base_uri": "https://localhost:8080/"
        },
        "id": "hHOfULxw_WBk",
        "outputId": "db95179c-2e14-48b0-ab09-38fe04ea5a8f"
      },
      "outputs": [
        {
          "output_type": "stream",
          "name": "stdout",
          "text": [
            "[[-0.0761259   0.04872255  0.94418438 ... -0.64038422 -0.29839918\n",
            "   0.1273893 ]\n",
            " [-0.80022017  1.44948651  0.04033672 ...  1.00805337  1.53502225\n",
            "  -0.43892978]\n",
            " [-0.02484183 -0.35135532  1.2526436  ... -0.59475688 -0.28980197\n",
            "  -1.45557403]\n",
            " [ 0.02851325  0.28723672 -0.49160259 ... -0.45156907 -0.58466582\n",
            "  -0.60165088]\n",
            " [-1.18665123 -0.44601773 -1.01070485 ...  0.95875385 -0.57988964\n",
            "  -1.17903793]]\n",
            "5.0\n"
          ]
        }
      ],
      "source": [
        "import numpy as np\n",
        "\n",
        "class NN2:\n",
        "    def __init__(self):\n",
        "        self.input_dim = 300\n",
        "        self.hidden_dim1 = 128\n",
        "        self.hidden_dim2 = 64\n",
        "        self.output_dim = 1\n",
        "        self.W1 = np.random.randn(self.hidden_dim1, self.input_dim)\n",
        "        self.b1 = np.random.randn(self.hidden_dim1)\n",
        "        self.W2 = np.random.randn(self.hidden_dim2, self.hidden_dim1)\n",
        "        self.b2 = np.random.randn(self.hidden_dim2)\n",
        "        self.W3 = np.random.randn(self.output_dim, self.hidden_dim2)\n",
        "        self.b3 = np.random.randn(self.output_dim)\n",
        "\n",
        "    def softmax(self, x):\n",
        "        return np.exp(x) / np.sum(np.exp(x), axis=0)\n",
        "\n",
        "    def forward(self, X):\n",
        "        L1 = self.softmax(np.dot(self.W1, X.T) + self.b1.reshape(-1, 1))\n",
        "        L2 = self.softmax(np.dot(self.W2, L1) + self.b2.reshape(-1, 1))\n",
        "        L3 = self.softmax(np.dot(self.W3, L2) + self.b3.reshape(-1, 1))\n",
        "        output = np.sum(L3)\n",
        "        return output\n",
        "\n",
        "\n",
        "nn2 = NN2()\n",
        "x = np.random.randn(5, 300)\n",
        "print(x)\n",
        "output = nn2.forward(x)\n",
        "print(output)"
      ]
    },
    {
      "cell_type": "code",
      "source": [
        "np.random.seed(0)\n",
        "\n",
        "x = np.random.randn(5, 300)\n",
        "print(x)\n",
        "\n",
        "\n",
        "class Layer_Dense:\n",
        "    def __init__(self, n_inputs, n_neurons):\n",
        "        self.weights = 0.10 * np.random.randn(n_inputs, n_neurons)\n",
        "        self.biases = np.zeros((1, n_neurons))\n",
        "\n",
        "    def softmax(self, x):\n",
        "        return np.exp(x) / np.sum(np.exp(x), axis=1, keepdims=True)\n",
        "\n",
        "    def forward(self, inputs):\n",
        "        self.output = self.softmax(np.dot(inputs, self.weights) + self.biases)\n",
        "\n",
        "\n",
        "layer1 = Layer_Dense(300,128)\n",
        "layer2 = Layer_Dense(128,64)\n",
        "layer3 = Layer_Dense(64,1)\n",
        "\n",
        "layer1.forward(x)\n",
        "layer2.forward(layer1.output)\n",
        "layer3.forward(layer2.output)\n",
        "\n",
        "print(np.sum(layer3.output))"
      ],
      "metadata": {
        "colab": {
          "base_uri": "https://localhost:8080/"
        },
        "id": "QdEpJSdD3uWU",
        "outputId": "6a863b15-9e6a-46d0-a108-6b4935952cb4"
      },
      "execution_count": null,
      "outputs": [
        {
          "output_type": "stream",
          "name": "stdout",
          "text": [
            "[[ 1.76405235  0.40015721  0.97873798 ...  0.58295368 -0.39944903\n",
            "   0.37005589]\n",
            " [-1.30652685  1.65813068 -0.11816405 ... -0.21673147 -0.9301565\n",
            "  -0.17858909]\n",
            " [-1.55042935  0.41731882 -0.94436849 ... -1.5415874   2.59442459\n",
            "  -0.40403229]\n",
            " [-1.46173269 -0.68343977  0.3675449  ... -0.59377745 -2.01188032\n",
            "   0.58970361]\n",
            " [-0.89636972 -1.96273201  1.58482053 ... -0.24679356 -1.07934317\n",
            "  -0.11422555]]\n",
            "5.0\n"
          ]
        }
      ]
    }
  ]
}