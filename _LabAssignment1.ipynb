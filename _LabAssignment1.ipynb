{
  "nbformat": 4,
  "nbformat_minor": 0,
  "metadata": {
    "colab": {
      "provenance": [],
      "authorship_tag": "ABX9TyOQHRYJOmzg5+BFP0NMF19w",
      "include_colab_link": true
    },
    "kernelspec": {
      "name": "python3",
      "display_name": "Python 3"
    },
    "language_info": {
      "name": "python"
    }
  },
  "cells": [
    {
      "cell_type": "markdown",
      "metadata": {
        "id": "view-in-github",
        "colab_type": "text"
      },
      "source": [
        "<a href=\"https://colab.research.google.com/github/1830668NabilahOshin/Numerical-methods-and-Neural-Network-Labwork/blob/main/_LabAssignment1.ipynb\" target=\"_parent\"><img src=\"https://colab.research.google.com/assets/colab-badge.svg\" alt=\"Open In Colab\"/></a>"
      ]
    },
    {
      "cell_type": "code",
      "execution_count": null,
      "metadata": {
        "colab": {
          "base_uri": "https://localhost:8080/"
        },
        "id": "CaHDEb-qbT-W",
        "outputId": "e0f95236-deec-43a4-f4f7-1f5003a92ac7"
      },
      "outputs": [
        {
          "output_type": "stream",
          "name": "stdout",
          "text": [
            "[[5 5 9 7 1 4 6 4 7 4]\n",
            " [9 5 2 2 4 8 5 1 8 6]\n",
            " [8 8 8 9 7 4 2 5 5 4]\n",
            " [8 8 3 5 3 1 7 5 2 9]\n",
            " [1 3 8 7 1 3 2 3 6 4]]\n",
            "50\n",
            "5.0\n"
          ]
        }
      ],
      "source": [
        "\n",
        "\n",
        "#Answer 1\n",
        "\n",
        "import numpy as np\n",
        "a = np.random.randint(low=1, high=10, size=(5,10))\n",
        "\n",
        "print(a)\n",
        "\n",
        "print(a[1, :].sum())\n",
        "\n",
        "print(a[1, :].mean())"
      ]
    },
    {
      "cell_type": "code",
      "source": [
        "#Answer 2\n",
        "\n",
        "a=np.random.randint(low=1, high=10, size=(5,10))\n",
        "print(a)\n",
        "\n",
        "for row in a:\n",
        "  print(row.sum())\n",
        "\n",
        "\n",
        "for row in a:\n",
        "  print(row.mean())"
      ],
      "metadata": {
        "colab": {
          "base_uri": "https://localhost:8080/"
        },
        "id": "NjQA6pkRe6Xw",
        "outputId": "fbb779df-77e3-40ff-ad58-0eee77e46cca"
      },
      "execution_count": null,
      "outputs": [
        {
          "output_type": "stream",
          "name": "stdout",
          "text": [
            "[[9 5 2 8 5 1 7 9 5 3]\n",
            " [3 8 2 1 7 4 7 7 2 2]\n",
            " [8 6 6 3 6 5 9 1 1 3]\n",
            " [9 2 4 1 4 2 1 1 4 7]\n",
            " [4 6 2 5 5 7 1 9 8 1]]\n",
            "54\n",
            "43\n",
            "48\n",
            "35\n",
            "48\n",
            "5.4\n",
            "4.3\n",
            "4.8\n",
            "3.5\n",
            "4.8\n"
          ]
        }
      ]
    },
    {
      "cell_type": "code",
      "source": [
        "#Answer 3\n",
        "\n",
        "v=np.random.randint(low=1, high=10, size=(20,1))\n",
        "print(v)\n",
        "\n",
        "print(v.sum() / v.size)\n",
        "\n"
      ],
      "metadata": {
        "colab": {
          "base_uri": "https://localhost:8080/"
        },
        "id": "JzTVPG0KibHT",
        "outputId": "4c03ace6-3015-46ba-d8b7-8b16dc323848"
      },
      "execution_count": null,
      "outputs": [
        {
          "output_type": "stream",
          "name": "stdout",
          "text": [
            "[[9]\n",
            " [6]\n",
            " [4]\n",
            " [3]\n",
            " [9]\n",
            " [9]\n",
            " [4]\n",
            " [7]\n",
            " [3]\n",
            " [6]\n",
            " [2]\n",
            " [3]\n",
            " [1]\n",
            " [2]\n",
            " [2]\n",
            " [3]\n",
            " [6]\n",
            " [8]\n",
            " [3]\n",
            " [1]]\n",
            "4.55\n"
          ]
        }
      ]
    },
    {
      "cell_type": "code",
      "source": [
        "#Answer 5\n",
        "\n",
        "a= np.array([1,4,9,16,25])\n",
        "print(a)\n",
        "\n",
        "evenarray = []\n",
        "for element in a:\n",
        "    if element%2 == 0:\n",
        "      evenarray.append(element)\n",
        "\n",
        "\n",
        "print(evenarray)\n"
      ],
      "metadata": {
        "colab": {
          "base_uri": "https://localhost:8080/"
        },
        "id": "Zef4c5Y8oKkc",
        "outputId": "50c29f6f-252a-4a69-eb9c-7b6e7a2e579f"
      },
      "execution_count": null,
      "outputs": [
        {
          "output_type": "stream",
          "name": "stdout",
          "text": [
            "[ 1  4  9 16 25]\n",
            "[4, 16]\n"
          ]
        }
      ]
    },
    {
      "cell_type": "code",
      "source": [
        "#Answer 6\n",
        "\n",
        "def printeven(a):\n",
        "  evenarr = []\n",
        "  for element in a:\n",
        "    if element%2 == 0:\n",
        "       evenarr.append(element)\n",
        "\n",
        "  return(evenarr, len(evenarr))\n",
        "\n",
        "\n",
        "\n",
        "a= np.array([1,4,9,16,25])\n",
        "print(a)\n",
        "printeven(a)\n"
      ],
      "metadata": {
        "colab": {
          "base_uri": "https://localhost:8080/"
        },
        "id": "4XjF5VAayV2Y",
        "outputId": "3f0ffaaa-15b0-4683-d9a6-e569e95530e0"
      },
      "execution_count": null,
      "outputs": [
        {
          "output_type": "stream",
          "name": "stdout",
          "text": [
            "[ 1  4  9 16 25]\n"
          ]
        },
        {
          "output_type": "execute_result",
          "data": {
            "text/plain": [
              "([4, 16], 2)"
            ]
          },
          "metadata": {},
          "execution_count": 26
        }
      ]
    }
  ]
}