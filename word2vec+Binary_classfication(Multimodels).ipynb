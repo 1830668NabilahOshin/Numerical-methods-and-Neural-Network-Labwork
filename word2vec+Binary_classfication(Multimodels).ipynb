{
  "nbformat": 4,
  "nbformat_minor": 0,
  "metadata": {
    "colab": {
      "provenance": [],
      "authorship_tag": "ABX9TyOi6z9SW45/VBTN0RwzaRce",
      "include_colab_link": true
    },
    "kernelspec": {
      "name": "python3",
      "display_name": "Python 3"
    },
    "language_info": {
      "name": "python"
    }
  },
  "cells": [
    {
      "cell_type": "markdown",
      "metadata": {
        "id": "view-in-github",
        "colab_type": "text"
      },
      "source": [
        "<a href=\"https://colab.research.google.com/github/1830668NabilahOshin/Numerical-methods-and-Neural-Network-Labwork/blob/main/word2vec%2BBinary_classfication(Multimodels).ipynb\" target=\"_parent\"><img src=\"https://colab.research.google.com/assets/colab-badge.svg\" alt=\"Open In Colab\"/></a>"
      ]
    },
    {
      "cell_type": "markdown",
      "source": [
        "#Word to Vec\n",
        "\n",
        "An algorithm which grabs the relational values of a word with its neighboring words from a given input sequence by capturing the meaning and its features on a numerical vector. This vector allows the model to compare the input words and its sequence to grasp similarities, dissimilatiries and connections in a way that is understandable by the model as it has a meaningful numerical representation"
      ],
      "metadata": {
        "id": "eVgi9HAb-eOn"
      }
    },
    {
      "cell_type": "code",
      "source": [
        "import gensim.downloader as api\n",
        "import pandas as pd\n",
        "from sklearn.model_selection import train_test_split\n",
        "from sklearn.svm import SVC\n",
        "from sklearn.metrics import accuracy_score\n",
        "from sklearn.feature_extraction.text import TfidfVectorizer\n",
        "from sklearn.linear_model import LogisticRegression\n",
        "import numpy as np\n",
        "from sklearn.tree import DecisionTreeClassifier"
      ],
      "metadata": {
        "id": "5OA0AsflJJ4J"
      },
      "execution_count": null,
      "outputs": []
    },
    {
      "cell_type": "markdown",
      "source": [
        "#Loading pretrained model"
      ],
      "metadata": {
        "id": "TzHrM1RuQGXZ"
      }
    },
    {
      "cell_type": "code",
      "source": [
        "w2v_model = api.load('word2vec-google-news-300')\n",
        "\n",
        "\n"
      ],
      "metadata": {
        "colab": {
          "base_uri": "https://localhost:8080/"
        },
        "id": "wlpT9mnmnQcD",
        "outputId": "b9de7e63-5edd-456d-84b5-cb64ae809389"
      },
      "execution_count": null,
      "outputs": [
        {
          "output_type": "stream",
          "name": "stdout",
          "text": [
            "[==================================================] 100.0% 1662.8/1662.8MB downloaded\n"
          ]
        }
      ]
    },
    {
      "cell_type": "markdown",
      "source": [
        "# Load dataset in CSV format"
      ],
      "metadata": {
        "id": "FcmnTqfvQNlI"
      }
    },
    {
      "cell_type": "code",
      "source": [
        "\n",
        "data = pd.read_csv('restuarents.csv', encoding='ISO-8859-1')\n",
        "print(data.head())"
      ],
      "metadata": {
        "colab": {
          "base_uri": "https://localhost:8080/"
        },
        "id": "Z-Fqhcr3nb8i",
        "outputId": "24bb66f8-c347-4ee7-c68d-06066702027f"
      },
      "execution_count": null,
      "outputs": [
        {
          "output_type": "stream",
          "name": "stdout",
          "text": [
            "                                                text  label\n",
            "0                           Wow... Loved this place.      1\n",
            "1                                 Crust is not good.      0\n",
            "2          Not tasty and the texture was just nasty.      0\n",
            "3  Stopped by during the late May bank holiday of...      1\n",
            "4  The selection on the menu was great and so wer...      1\n"
          ]
        }
      ]
    },
    {
      "cell_type": "markdown",
      "source": [
        "#word2vec"
      ],
      "metadata": {
        "id": "fEBxZxWvPcP0"
      }
    },
    {
      "cell_type": "code",
      "source": [
        "tokenized_data = [text.split() for text in data['text']]\n",
        "\n",
        "vectors = []\n",
        "for tokens in tokenized_data:\n",
        "    vec = [w2v_model[token] for token in tokens if token in w2v_model]\n",
        "    if vec:\n",
        "        vectors.append(sum(vec) / len(vec))\n",
        "    else:\n",
        "        vectors.append(np.zeros(w2v_model.vector_size))\n",
        "\n",
        "# DataFrame of Word2Vec vectors\n",
        "w2v_data = pd.DataFrame([x for x in vectors if isinstance(x, np.ndarray)])\n",
        "\n",
        "w2v_df = pd.DataFrame({'text': data['text'], 'label': data['label'], 'vector': vectors}).dropna()\n",
        "X_train, X_test, y_train, y_test = train_test_split(w2v_data, w2v_df['label'], test_size=0.2, random_state=42)\n",
        "\n",
        "print(w2v_df.head())"
      ],
      "metadata": {
        "colab": {
          "base_uri": "https://localhost:8080/"
        },
        "id": "LpY3aHHfKQTp",
        "outputId": "faefc004-717c-4b62-8a38-2d1daf8eee9f"
      },
      "execution_count": null,
      "outputs": [
        {
          "output_type": "stream",
          "name": "stdout",
          "text": [
            "                                                text  label  \\\n",
            "0                           Wow... Loved this place.      1   \n",
            "1                                 Crust is not good.      0   \n",
            "2          Not tasty and the texture was just nasty.      0   \n",
            "3  Stopped by during the late May bank holiday of...      1   \n",
            "4  The selection on the menu was great and so wer...      1   \n",
            "\n",
            "                                              vector  \n",
            "0  [0.033691406, 0.008544922, 0.06225586, 0.14697...  \n",
            "1  [0.054270428, -0.098470055, 0.10380045, 0.1255...  \n",
            "2  [0.039611816, 0.04481252, 0.050313313, 0.06852...  \n",
            "3  [0.062037878, 0.013691493, 0.015267508, 0.0682...  \n",
            "4  [-0.0375, 0.11079712, 0.033346556, 0.06557617,...  \n"
          ]
        }
      ]
    },
    {
      "cell_type": "markdown",
      "source": [
        "#Classified by SVM"
      ],
      "metadata": {
        "id": "gGq1OHPfP-xb"
      }
    },
    {
      "cell_type": "code",
      "source": [
        "clf = SVC(kernel='linear')\n",
        "\n",
        "\n",
        "clf.fit(X_train, y_train)\n",
        "y_pred = clf.predict(X_test)\n",
        "w2v_df['predicted_label'] = clf.predict(w2v_data)\n",
        "\n",
        "accuracy_w2v_svm = accuracy_score(y_test, y_pred)\n",
        "print('Accuracy of SVM:', accuracy_w2v_svm)\n",
        "\n",
        "\n",
        "print(w2v_df.head())\n"
      ],
      "metadata": {
        "colab": {
          "base_uri": "https://localhost:8080/"
        },
        "id": "Ey6ZlPgDP9ZF",
        "outputId": "6245b22c-eb4a-49a1-cd7b-0b2cabc8413c"
      },
      "execution_count": null,
      "outputs": [
        {
          "output_type": "stream",
          "name": "stdout",
          "text": [
            "Accuracy of SVM: 0.7431693989071039\n",
            "                                                text  label  \\\n",
            "0                           Wow... Loved this place.      1   \n",
            "1                                 Crust is not good.      0   \n",
            "2          Not tasty and the texture was just nasty.      0   \n",
            "3  Stopped by during the late May bank holiday of...      1   \n",
            "4  The selection on the menu was great and so wer...      1   \n",
            "\n",
            "                                              vector  predicted_label  \n",
            "0  [0.033691406, 0.008544922, 0.06225586, 0.14697...                1  \n",
            "1  [0.054270428, -0.098470055, 0.10380045, 0.1255...                0  \n",
            "2  [0.039611816, 0.04481252, 0.050313313, 0.06852...                0  \n",
            "3  [0.062037878, 0.013691493, 0.015267508, 0.0682...                0  \n",
            "4  [-0.0375, 0.11079712, 0.033346556, 0.06557617,...                1  \n"
          ]
        }
      ]
    },
    {
      "cell_type": "markdown",
      "source": [
        "#Classified by Decision Tree"
      ],
      "metadata": {
        "id": "n3vSPdG3RKfT"
      }
    },
    {
      "cell_type": "code",
      "source": [
        "clf2 = DecisionTreeClassifier()\n",
        "clf2.fit(X_train, y_train)\n",
        "\n",
        "\n",
        "y2_pred = clf2.predict(X_test)\n",
        "\n",
        "accuracy_w2v_dt = accuracy_score(y_test, y2_pred)\n",
        "print('Accuracy of dt:', accuracy_w2v_dt)"
      ],
      "metadata": {
        "colab": {
          "base_uri": "https://localhost:8080/"
        },
        "id": "NrLs9FSNRGlV",
        "outputId": "cfe986d1-0507-46b5-cefa-286459ef2959"
      },
      "execution_count": null,
      "outputs": [
        {
          "output_type": "stream",
          "name": "stdout",
          "text": [
            "Accuracy of dt: 0.6065573770491803\n"
          ]
        }
      ]
    },
    {
      "cell_type": "markdown",
      "source": [
        "#Classified by Logistic Regression"
      ],
      "metadata": {
        "id": "Jxq09IthSVHn"
      }
    },
    {
      "cell_type": "code",
      "source": [
        "clf3 = LogisticRegression()\n",
        "clf3.fit(X_train, y_train)\n",
        "\n",
        "y3_pred = clf3.predict(X_test)\n",
        "accuracy_w2v_lr = accuracy_score(y_test, y3_pred)\n",
        "print('Accuracy of lr:', accuracy_w2v_lr)"
      ],
      "metadata": {
        "colab": {
          "base_uri": "https://localhost:8080/"
        },
        "id": "bXLBQCAsNktR",
        "outputId": "ce5ec870-12e1-4e02-a6c5-e97eacf0e344"
      },
      "execution_count": null,
      "outputs": [
        {
          "output_type": "stream",
          "name": "stdout",
          "text": [
            "Accuracy of lr: 0.7814207650273224\n"
          ]
        }
      ]
    },
    {
      "cell_type": "markdown",
      "source": [
        "#TF-IDF"
      ],
      "metadata": {
        "id": "o373jP-bSkmw"
      }
    },
    {
      "cell_type": "code",
      "source": [
        "X1_train, X1_test, y1_train, y1_test = train_test_split(data['text'], data['label'], test_size=0.2, random_state=42)\n",
        "\n",
        "tfidf_vectorizer = TfidfVectorizer()\n",
        "\n",
        "X1_train_tfidf = tfidf_vectorizer.fit_transform(X1_train.astype(str))\n",
        "X1_test_tfidf = tfidf_vectorizer.transform(X1_test.astype(str))\n",
        "\n"
      ],
      "metadata": {
        "id": "8W0OFy7nV1GH"
      },
      "execution_count": null,
      "outputs": []
    },
    {
      "cell_type": "markdown",
      "source": [
        "#Classified by SVM"
      ],
      "metadata": {
        "id": "-w56gc4uTm8Z"
      }
    },
    {
      "cell_type": "code",
      "source": [
        "clf.fit(X1_train_tfidf, y1_train)\n",
        "\n",
        "y4_pred = clf.predict(X1_test_tfidf)\n",
        "\n",
        "accuracy_tfidf_svm = accuracy_score(y1_test, y4_pred)\n",
        "print('Accuracy of SVM:', accuracy_tfidf_svm)\n",
        "\n",
        "results_df = pd.DataFrame({\n",
        "    'text': X1_test,\n",
        "    'true_label': y1_test,\n",
        "    'predicted_label': y4_pred\n",
        "})\n",
        "print(results_df.head())"
      ],
      "metadata": {
        "colab": {
          "base_uri": "https://localhost:8080/"
        },
        "id": "gCFzoIJpMW7X",
        "outputId": "1c6710c7-c140-48d1-b0b6-0d8c748a6abe"
      },
      "execution_count": null,
      "outputs": [
        {
          "output_type": "stream",
          "name": "stdout",
          "text": [
            "Accuracy of SVM: 0.819672131147541\n",
            "                                                  text  true_label  \\\n",
            "380                           What a mistake that was!           0   \n",
            "853  It also took her forever to bring us the check...           0   \n",
            "355  Kids pizza is always a hit too with lots of gr...           1   \n",
            "357  Cooked to perfection and the service was impec...           1   \n",
            "362  Today was my first taste of a Buldogis Gourmet...           1   \n",
            "\n",
            "     predicted_label  \n",
            "380                0  \n",
            "853                1  \n",
            "355                1  \n",
            "357                1  \n",
            "362                0  \n"
          ]
        }
      ]
    },
    {
      "cell_type": "markdown",
      "source": [
        "#Classified by Decision Tree"
      ],
      "metadata": {
        "id": "1EkttbxfVVSI"
      }
    },
    {
      "cell_type": "code",
      "source": [
        "clf2.fit(X1_train_tfidf, y1_train)\n",
        "\n",
        "y5_pred = clf2.predict(X1_test_tfidf)\n",
        "\n",
        "accuracy_tfidf_dt = accuracy_score(y1_test, y5_pred)\n",
        "print('Accuracy of DT:', accuracy_tfidf_dt)"
      ],
      "metadata": {
        "colab": {
          "base_uri": "https://localhost:8080/"
        },
        "id": "zJUiJL0yUi3R",
        "outputId": "c4708acd-0bf6-46ce-8616-e5508ebfc984"
      },
      "execution_count": null,
      "outputs": [
        {
          "output_type": "stream",
          "name": "stdout",
          "text": [
            "Accuracy of DT: 0.7595628415300546\n"
          ]
        }
      ]
    },
    {
      "cell_type": "markdown",
      "source": [
        "#Classified by Logistic Regression"
      ],
      "metadata": {
        "id": "Loe5O5l8VbjL"
      }
    },
    {
      "cell_type": "code",
      "source": [
        "clf3.fit(X1_train_tfidf, y1_train)\n",
        "\n",
        "y6_pred = clf3.predict(X1_test_tfidf)\n",
        "\n",
        "accuracy_tfidf_lr = accuracy_score(y1_test, y6_pred)\n",
        "print('Accuracy of lr:', accuracy_tfidf_lr)"
      ],
      "metadata": {
        "colab": {
          "base_uri": "https://localhost:8080/"
        },
        "id": "wVxizHYWVATV",
        "outputId": "e1d75418-bfaa-44c6-aa22-cba970300b51"
      },
      "execution_count": null,
      "outputs": [
        {
          "output_type": "stream",
          "name": "stdout",
          "text": [
            "Accuracy of lr: 0.7868852459016393\n"
          ]
        }
      ]
    }
  ]
}